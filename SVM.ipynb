{
  "nbformat": 4,
  "nbformat_minor": 0,
  "metadata": {
    "colab": {
      "provenance": [],
      "authorship_tag": "ABX9TyPKxXyvzo9woTXR3f3bUwUZ",
      "include_colab_link": true
    },
    "kernelspec": {
      "name": "python3",
      "display_name": "Python 3"
    },
    "language_info": {
      "name": "python"
    }
  },
  "cells": [
    {
      "cell_type": "markdown",
      "metadata": {
        "id": "view-in-github",
        "colab_type": "text"
      },
      "source": [
        "<a href=\"https://colab.research.google.com/github/mAlzuman/SVM/blob/main/SVM.ipynb\" target=\"_parent\"><img src=\"https://colab.research.google.com/assets/colab-badge.svg\" alt=\"Open In Colab\"/></a>"
      ]
    },
    {
      "cell_type": "code",
      "execution_count": 2,
      "metadata": {
        "colab": {
          "base_uri": "https://localhost:8080/"
        },
        "id": "Fq6xcMrVnR_1",
        "outputId": "bf95e40b-35fb-48e2-c9bf-52edfab47ee4"
      },
      "outputs": [
        {
          "output_type": "stream",
          "name": "stdout",
          "text": [
            "{'pred': 0}\n"
          ]
        }
      ],
      "source": [
        "import requests\n",
        "\n",
        "url = 'https://svm-1yq0.onrender.com/predict'\n",
        "\n",
        "data = {\n",
        "  \"age\": 30.0,\n",
        "  \"appearance\":63,\n",
        "  \"minutes_played\":6408,\n",
        "  \"award\": 13,\n",
        "  \"highest_value\":70000000\n",
        "}\n",
        "\n",
        "response = requests.post(url, json=data)\n",
        "\n",
        "print(response.json())"
      ]
    }
  ]
}