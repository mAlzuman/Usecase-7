{
  "nbformat": 4,
  "nbformat_minor": 0,
  "metadata": {
    "colab": {
      "provenance": [],
      "authorship_tag": "ABX9TyMRWpkvZhR4yjXsn18RLOp8",
      "include_colab_link": true
    },
    "kernelspec": {
      "name": "python3",
      "display_name": "Python 3"
    },
    "language_info": {
      "name": "python"
    }
  },
  "cells": [
    {
      "cell_type": "markdown",
      "metadata": {
        "id": "view-in-github",
        "colab_type": "text"
      },
      "source": [
        "<a href=\"https://colab.research.google.com/github/mAlzuman/Usecase-7/blob/main/Liner_Regression.ipynb\" target=\"_parent\"><img src=\"https://colab.research.google.com/assets/colab-badge.svg\" alt=\"Open In Colab\"/></a>"
      ]
    },
    {
      "cell_type": "code",
      "execution_count": 1,
      "metadata": {
        "colab": {
          "base_uri": "https://localhost:8080/"
        },
        "id": "lYadj7xCCenF",
        "outputId": "7d6e3279-8895-4d0a-fedd-8c3367a1f169"
      },
      "outputs": [
        {
          "output_type": "stream",
          "name": "stdout",
          "text": [
            "{'pred': -3777954891726.8354}\n"
          ]
        }
      ],
      "source": [
        "import requests\n",
        "\n",
        "url = 'https://fastapi-app-61ex.onrender.com/predict'\n",
        "\n",
        "data = {\n",
        "  \"appearance\":63,\n",
        "  \"minutes_played\":6408,\n",
        "  \"award\": 13,\n",
        "  \"highest_value\":70000000,\n",
        "  \"days_injured\": 42,\n",
        "  \"games_injured\":85\n",
        "}\n",
        "\n",
        "response = requests.post(url, json=data)\n",
        "\n",
        "print(response.json())"
      ]
    }
  ]
}